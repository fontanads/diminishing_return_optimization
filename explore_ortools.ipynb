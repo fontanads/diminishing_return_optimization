{
 "cells": [
  {
   "cell_type": "code",
   "execution_count": 3,
   "metadata": {},
   "outputs": [],
   "source": [
    "from ortools.linear_solver import pywraplp\n",
    "from ortools.init import pywrapinit"
   ]
  },
  {
   "cell_type": "markdown",
   "metadata": {},
   "source": [
    "# Create the linear solver with the GLOP backend."
   ]
  },
  {
   "cell_type": "code",
   "execution_count": 4,
   "metadata": {},
   "outputs": [],
   "source": [
    "solver = pywraplp.Solver.CreateSolver('GLOP')"
   ]
  },
  {
   "cell_type": "markdown",
   "metadata": {},
   "source": [
    "# Create the variables x and y"
   ]
  },
  {
   "cell_type": "code",
   "execution_count": 5,
   "metadata": {},
   "outputs": [
    {
     "name": "stdout",
     "output_type": "stream",
     "text": [
      "Number of variables = 2\n"
     ]
    }
   ],
   "source": [
    "x = solver.NumVar(0, 1, 'x') # variable x; lower bound: 0, upper bound: 1\n",
    "y = solver.NumVar(0, 2, 'y') # variable y; lower bound: 0, upper bound: 1\n",
    "\n",
    "print('Number of variables =', solver.NumVariables())"
   ]
  },
  {
   "cell_type": "code",
   "execution_count": 7,
   "metadata": {},
   "outputs": [
    {
     "name": "stdout",
     "output_type": "stream",
     "text": [
      "Help on method NumVar in module ortools.linear_solver.pywraplp:\n",
      "\n",
      "NumVar(lb: 'double', ub: 'double', name: 'std::string const &') -> 'operations_research::MPVariable *' method of ortools.linear_solver.pywraplp.Solver instance\n",
      "\n"
     ]
    }
   ],
   "source": [
    "help(solver.NumVar)"
   ]
  },
  {
   "cell_type": "markdown",
   "metadata": {},
   "source": [
    "# Create a linear constraint, 0 <= x + y <= 2"
   ]
  },
  {
   "cell_type": "code",
   "execution_count": 8,
   "metadata": {},
   "outputs": [
    {
     "name": "stdout",
     "output_type": "stream",
     "text": [
      "Number of constraints = 1\n"
     ]
    }
   ],
   "source": [
    "ct = solver.Constraint(0, 2, 'ct') # constraint \"ct\": lower bound 0, upper bund 2 (0 <= ... <= 2)\n",
    "ct.SetCoefficient(x, 1) # add variable x to constraint equation with its coefficient 1 (0 <= 1*x <= 2)\n",
    "ct.SetCoefficient(y, 1) # add variable y to constraint equation with its coefficient 1 (0 <= 1*x + 1*y <= 2)\n",
    "\n",
    "print('Number of constraints =', solver.NumConstraints())"
   ]
  },
  {
   "cell_type": "markdown",
   "metadata": {},
   "source": [
    "# Create the objective function, 3 * x + y"
   ]
  },
  {
   "cell_type": "code",
   "execution_count": 9,
   "metadata": {},
   "outputs": [],
   "source": [
    "objective = solver.Objective() # initialize objective function (python object) f(...)\n",
    "objective.SetCoefficient(x, 3) # objective function updated to f(x) = 3*x\n",
    "objective.SetCoefficient(y, 1) # objective function updated to f(x, y) = 3*x + 1*y\n",
    "objective.SetMaximization()    # problem formulated: maximize f(x, y)\n",
    "# The method SetMaximization declares this to be a maximization problem."
   ]
  },
  {
   "cell_type": "markdown",
   "metadata": {},
   "source": [
    "# Invoke the solver and display the results"
   ]
  },
  {
   "cell_type": "code",
   "execution_count": 10,
   "metadata": {},
   "outputs": [
    {
     "name": "stdout",
     "output_type": "stream",
     "text": [
      "Solution:\n",
      "Objective value = 4.0\n",
      "x = 1.0\n",
      "y = 1.0\n"
     ]
    }
   ],
   "source": [
    "solver.Solve()\n",
    "print('Solution:')\n",
    "print('Objective value =', objective.Value())\n",
    "print('x =', x.solution_value())\n",
    "print('y =', y.solution_value())"
   ]
  },
  {
   "cell_type": "markdown",
   "metadata": {},
   "source": [
    "# Complete program"
   ]
  },
  {
   "cell_type": "code",
   "execution_count": 1,
   "metadata": {},
   "outputs": [
    {
     "name": "stdout",
     "output_type": "stream",
     "text": [
      "I passed here.\n",
      "Number of variables = 2\n",
      "Number of constraints = 1\n",
      "Solution:\n",
      "Objective value = 4.0\n",
      "x = 1.0\n",
      "y = 1.0\n",
      "Number of variables = 2\n",
      "Number of constraints = 1\n",
      "Solution:\n",
      "Objective value = 4.0\n",
      "x = 1.0\n",
      "y = 1.0\n"
     ]
    }
   ],
   "source": [
    "from ortools.linear_solver import pywraplp\n",
    "from ortools.init import pywrapinit\n",
    "\n",
    "\n",
    "def main():\n",
    "    # Create the linear solver with the GLOP backend.\n",
    "    solver = pywraplp.Solver.CreateSolver('GLOP')\n",
    "\n",
    "    # Create the variables x and y.\n",
    "    x = solver.NumVar(0, 1, 'x')\n",
    "    y = solver.NumVar(0, 2, 'y')\n",
    "\n",
    "    print('Number of variables =', solver.NumVariables())\n",
    "\n",
    "    # Create a linear constraint, 0 <= x + y <= 2.\n",
    "    ct = solver.Constraint(0, 2, 'ct')\n",
    "    ct.SetCoefficient(x, 1)\n",
    "    ct.SetCoefficient(y, 1)\n",
    "\n",
    "    print('Number of constraints =', solver.NumConstraints())\n",
    "\n",
    "    # Create the objective function, 3 * x + y.\n",
    "    objective = solver.Objective()\n",
    "    objective.SetCoefficient(x, 3)\n",
    "    objective.SetCoefficient(y, 1)\n",
    "    objective.SetMaximization()\n",
    "\n",
    "    solver.Solve()\n",
    "\n",
    "    print('Solution:')\n",
    "    print('Objective value =', objective.Value())\n",
    "    print('x =', x.solution_value())\n",
    "    print('y =', y.solution_value())\n",
    "\n",
    "\n",
    "if __name__ == '__main__':\n",
    "    print(\"I passed here.\")\n",
    "    pywrapinit.CppBridge.InitLogging('basic_example.py')\n",
    "    cpp_flags = pywrapinit.CppFlags()\n",
    "    cpp_flags.logtostderr = True\n",
    "    cpp_flags.log_prefix = False\n",
    "    pywrapinit.CppBridge.SetFlags(cpp_flags)\n",
    "\n",
    "    main()\n",
    "\n",
    "main()"
   ]
  },
  {
   "cell_type": "code",
   "execution_count": null,
   "metadata": {},
   "outputs": [],
   "source": []
  }
 ],
 "metadata": {
  "interpreter": {
   "hash": "8276fab5de28bed8d8ce2624bc130ebb38404aef5005e679a061c79c3e3e724b"
  },
  "kernelspec": {
   "display_name": "Python 3.9.7 64-bit ('optimization': conda)",
   "name": "python3"
  },
  "language_info": {
   "codemirror_mode": {
    "name": "ipython",
    "version": 3
   },
   "file_extension": ".py",
   "mimetype": "text/x-python",
   "name": "python",
   "nbconvert_exporter": "python",
   "pygments_lexer": "ipython3",
   "version": "3.9.7"
  },
  "orig_nbformat": 4
 },
 "nbformat": 4,
 "nbformat_minor": 2
}
